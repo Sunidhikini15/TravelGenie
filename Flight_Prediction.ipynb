{
 "cells": [
  {
   "cell_type": "code",
   "execution_count": 1,
   "metadata": {
    "id": "54vH9U6rCAPt"
   },
   "outputs": [],
   "source": [
    "import pandas as pd\n",
    "from difflib import get_close_matches\n",
    "\n",
    "def load_flight_data(file_path):\n",
    "    df = pd.read_csv(\"goibibo.csv\")\n",
    "    all_sources = df['Source'].dropna().unique().tolist()\n",
    "    all_destinations = df['Destination'].dropna().unique().tolist()\n",
    "    return df, all_sources, all_destinations\n",
    "\n",
    "def suggest_flights(source, destination, max_budget, df, all_sources, all_destinations):\n",
    "    source = source.strip().title()\n",
    "    destination = destination.strip().title()\n",
    "\n",
    "    corrected_source = get_close_matches(source, all_sources, n=1)\n",
    "    corrected_destination = get_close_matches(destination, all_destinations, n=1)\n",
    "\n",
    "    if not corrected_source or not corrected_destination:\n",
    "        print(\"\\n❌ Oops! Couldn't recognize one of the cities.\")\n",
    "        print(\"🧭 Available Source Cities:\", ', '.join(sorted(all_sources)))\n",
    "        print(\"🧭 Available Destination Cities:\", ', '.join(sorted(all_destinations)))\n",
    "        return\n",
    "\n",
    "    source = corrected_source[0]\n",
    "    destination = corrected_destination[0]\n",
    "\n",
    "    filtered = df[\n",
    "        (df['Source'] == source) &\n",
    "        (df['Destination'] == destination) &\n",
    "        (df['Price'] <= max_budget)\n",
    "    ]\n",
    "\n",
    "    top_5 = filtered.sort_values(by='Price').head(5)\n",
    "    result = top_5[['Airline', 'Source', 'Destination', 'Dep_Time', 'Arrival_Time', 'Price']]\n",
    "\n",
    "    if result.empty:\n",
    "        print(f\"\\n⚠️ No flights from {source} to {destination} within ₹{max_budget}. Try changing your inputs or increasing the budget!\")\n",
    "    else:\n",
    "        print(f\"\\n🎯 Top 5 cheapest flights from {source} to {destination} under ₹{max_budget}:\\n\")\n",
    "        print(result.to_string(index=False))\n"
   ]
  },
  {
   "cell_type": "code",
   "execution_count": 3,
   "metadata": {
    "colab": {
     "base_uri": "https://localhost:8080/"
    },
    "id": "bNavf4DSCSCO",
    "outputId": "aa81f697-8100-4977-ec0d-32b5ebc82241"
   },
   "outputs": [
    {
     "name": "stdout",
     "output_type": "stream",
     "text": [
      "Enter Source City: Banglore\n",
      "Enter Destination City: Delhi\n",
      "Enter your Budget (in INR): 6000\n",
      "\n",
      "🎯 Top 5 cheapest flights from Banglore to Delhi under ₹6000:\n",
      "\n",
      " Airline   Source Destination Dep_Time Arrival_Time  Price\n",
      "SpiceJet Banglore       Delhi    05:55        08:35   3257\n",
      "SpiceJet Banglore       Delhi    05:55        08:35   3257\n",
      "SpiceJet Banglore       Delhi    21:10 00:05 07 Jun   3257\n",
      "SpiceJet Banglore       Delhi    21:10 00:05 28 May   3257\n",
      "SpiceJet Banglore       Delhi    05:55        08:35   3257\n"
     ]
    }
   ],
   "source": [
    "# Instead of importing like modules, directly call the functions from the previous cell.\n",
    "# Assuming your functions are in a cell named \"ipython-input-1-9e033e570b07\", you can access them using the following syntax:\n",
    "\n",
    "# Get the IPython instance\n",
    "from IPython import get_ipython\n",
    "\n",
    "# Get the user namespace\n",
    "user_ns = get_ipython().user_ns\n",
    "\n",
    "# Access the functions\n",
    "load_flight_data = user_ns.get('load_flight_data')\n",
    "suggest_flights = user_ns.get('suggest_flights')\n",
    "\n",
    "\n",
    "def main():\n",
    "    df, sources, destinations = load_flight_data(\"goibibo.csv\")\n",
    "\n",
    "    src = input(\"Enter Source City: \")\n",
    "    dest = input(\"Enter Destination City: \")\n",
    "\n",
    "    try:\n",
    "        budget = int(input(\"Enter your Budget (in INR): \"))\n",
    "        suggest_flights(src, dest, budget, df, sources, destinations)\n",
    "    except ValueError:\n",
    "        print(\"🚫 Invalid budget input! Please enter a number.\")\n",
    "\n",
    "if __name__ == \"__main__\":\n",
    "    main()"
   ]
  },
  {
   "cell_type": "code",
   "execution_count": null,
   "metadata": {},
   "outputs": [],
   "source": []
  }
 ],
 "metadata": {
  "colab": {
   "provenance": []
  },
  "kernelspec": {
   "display_name": "Python 3 (ipykernel)",
   "language": "python",
   "name": "python3"
  },
  "language_info": {
   "codemirror_mode": {
    "name": "ipython",
    "version": 3
   },
   "file_extension": ".py",
   "mimetype": "text/x-python",
   "name": "python",
   "nbconvert_exporter": "python",
   "pygments_lexer": "ipython3",
   "version": "3.11.5"
  }
 },
 "nbformat": 4,
 "nbformat_minor": 1
}
